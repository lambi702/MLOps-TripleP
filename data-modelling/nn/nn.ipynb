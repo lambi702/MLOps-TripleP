{
 "cells": [
  {
   "cell_type": "markdown",
   "metadata": {},
   "source": [
    "# First NN to test a simple model\n",
    "\n",
    "In this notebook, we implement a simple neural network to predict the photovoltaic power generation. We use the data from the University of Liege."
   ]
  },
  {
   "cell_type": "markdown",
   "metadata": {},
   "source": [
    "### import libraries"
   ]
  },
  {
   "cell_type": "code",
   "execution_count": 1,
   "metadata": {},
   "outputs": [],
   "source": [
    "import torch \n",
    "import torch.nn as nn\n",
    "import torch.nn.functional as F\n",
    "import torch.optim as optim\n",
    "import numpy as np\n",
    "import random\n",
    "import matplotlib.pyplot as plt\n",
    "import pandas as pd\n",
    "from torch.utils.data import Dataset, DataLoader\n",
    "\n",
    "import wandb"
   ]
  },
  {
   "cell_type": "code",
   "execution_count": 2,
   "metadata": {},
   "outputs": [],
   "source": [
    "DATA_PATH = 'data/cleaned.csv'"
   ]
  },
  {
   "cell_type": "code",
   "execution_count": 3,
   "metadata": {},
   "outputs": [
    {
     "data": {
      "text/html": [
       "<div>\n",
       "<style scoped>\n",
       "    .dataframe tbody tr th:only-of-type {\n",
       "        vertical-align: middle;\n",
       "    }\n",
       "\n",
       "    .dataframe tbody tr th {\n",
       "        vertical-align: top;\n",
       "    }\n",
       "\n",
       "    .dataframe thead th {\n",
       "        text-align: right;\n",
       "    }\n",
       "</style>\n",
       "<table border=\"1\" class=\"dataframe\">\n",
       "  <thead>\n",
       "    <tr style=\"text-align: right;\">\n",
       "      <th></th>\n",
       "      <th>date</th>\n",
       "      <th>id</th>\n",
       "      <th>Power_1</th>\n",
       "      <th>Power_2</th>\n",
       "      <th>Power_3</th>\n",
       "      <th>Power_4</th>\n",
       "      <th>Power_5</th>\n",
       "      <th>Power_6</th>\n",
       "      <th>Power_7</th>\n",
       "      <th>Power_8</th>\n",
       "      <th>...</th>\n",
       "      <th>CU</th>\n",
       "      <th>CM</th>\n",
       "      <th>CD</th>\n",
       "      <th>TT2M</th>\n",
       "      <th>ST</th>\n",
       "      <th>RH2m</th>\n",
       "      <th>WS10m</th>\n",
       "      <th>WS100m</th>\n",
       "      <th>PREC</th>\n",
       "      <th>SNOW</th>\n",
       "    </tr>\n",
       "  </thead>\n",
       "  <tbody>\n",
       "    <tr>\n",
       "      <th>0</th>\n",
       "      <td>2022-01-01 02:15:00+02:00</td>\n",
       "      <td>577035.0</td>\n",
       "      <td>0.0</td>\n",
       "      <td>0.0</td>\n",
       "      <td>0.0</td>\n",
       "      <td>0.0</td>\n",
       "      <td>0.0</td>\n",
       "      <td>0.0</td>\n",
       "      <td>0.0</td>\n",
       "      <td>0.0</td>\n",
       "      <td>...</td>\n",
       "      <td>0.00</td>\n",
       "      <td>0.0</td>\n",
       "      <td>0.0</td>\n",
       "      <td>8.38</td>\n",
       "      <td>8.38</td>\n",
       "      <td>93.34</td>\n",
       "      <td>3.46</td>\n",
       "      <td>9.10</td>\n",
       "      <td>0.0</td>\n",
       "      <td>0.0</td>\n",
       "    </tr>\n",
       "    <tr>\n",
       "      <th>1</th>\n",
       "      <td>2022-01-01 02:30:00+02:00</td>\n",
       "      <td>577038.0</td>\n",
       "      <td>0.0</td>\n",
       "      <td>0.0</td>\n",
       "      <td>0.0</td>\n",
       "      <td>0.0</td>\n",
       "      <td>0.0</td>\n",
       "      <td>0.0</td>\n",
       "      <td>0.0</td>\n",
       "      <td>0.0</td>\n",
       "      <td>...</td>\n",
       "      <td>0.00</td>\n",
       "      <td>0.0</td>\n",
       "      <td>0.0</td>\n",
       "      <td>8.52</td>\n",
       "      <td>8.52</td>\n",
       "      <td>92.18</td>\n",
       "      <td>3.81</td>\n",
       "      <td>9.52</td>\n",
       "      <td>0.0</td>\n",
       "      <td>0.0</td>\n",
       "    </tr>\n",
       "    <tr>\n",
       "      <th>2</th>\n",
       "      <td>2022-01-01 02:45:00+02:00</td>\n",
       "      <td>577041.0</td>\n",
       "      <td>0.0</td>\n",
       "      <td>0.0</td>\n",
       "      <td>0.0</td>\n",
       "      <td>0.0</td>\n",
       "      <td>0.0</td>\n",
       "      <td>0.0</td>\n",
       "      <td>0.0</td>\n",
       "      <td>0.0</td>\n",
       "      <td>...</td>\n",
       "      <td>0.00</td>\n",
       "      <td>0.0</td>\n",
       "      <td>0.0</td>\n",
       "      <td>8.66</td>\n",
       "      <td>8.66</td>\n",
       "      <td>90.91</td>\n",
       "      <td>4.15</td>\n",
       "      <td>9.66</td>\n",
       "      <td>0.0</td>\n",
       "      <td>0.0</td>\n",
       "    </tr>\n",
       "    <tr>\n",
       "      <th>3</th>\n",
       "      <td>2022-01-01 03:00:00+02:00</td>\n",
       "      <td>577044.0</td>\n",
       "      <td>0.0</td>\n",
       "      <td>0.0</td>\n",
       "      <td>0.0</td>\n",
       "      <td>0.0</td>\n",
       "      <td>0.0</td>\n",
       "      <td>0.0</td>\n",
       "      <td>0.0</td>\n",
       "      <td>0.0</td>\n",
       "      <td>...</td>\n",
       "      <td>0.00</td>\n",
       "      <td>0.0</td>\n",
       "      <td>0.0</td>\n",
       "      <td>8.76</td>\n",
       "      <td>8.76</td>\n",
       "      <td>90.18</td>\n",
       "      <td>4.36</td>\n",
       "      <td>9.50</td>\n",
       "      <td>0.0</td>\n",
       "      <td>0.0</td>\n",
       "    </tr>\n",
       "    <tr>\n",
       "      <th>4</th>\n",
       "      <td>2022-01-01 03:15:00+02:00</td>\n",
       "      <td>577047.0</td>\n",
       "      <td>0.0</td>\n",
       "      <td>0.0</td>\n",
       "      <td>0.0</td>\n",
       "      <td>0.0</td>\n",
       "      <td>0.0</td>\n",
       "      <td>0.0</td>\n",
       "      <td>0.0</td>\n",
       "      <td>0.0</td>\n",
       "      <td>...</td>\n",
       "      <td>0.00</td>\n",
       "      <td>0.0</td>\n",
       "      <td>0.0</td>\n",
       "      <td>8.74</td>\n",
       "      <td>8.74</td>\n",
       "      <td>90.39</td>\n",
       "      <td>4.38</td>\n",
       "      <td>9.16</td>\n",
       "      <td>0.0</td>\n",
       "      <td>0.0</td>\n",
       "    </tr>\n",
       "    <tr>\n",
       "      <th>...</th>\n",
       "      <td>...</td>\n",
       "      <td>...</td>\n",
       "      <td>...</td>\n",
       "      <td>...</td>\n",
       "      <td>...</td>\n",
       "      <td>...</td>\n",
       "      <td>...</td>\n",
       "      <td>...</td>\n",
       "      <td>...</td>\n",
       "      <td>...</td>\n",
       "      <td>...</td>\n",
       "      <td>...</td>\n",
       "      <td>...</td>\n",
       "      <td>...</td>\n",
       "      <td>...</td>\n",
       "      <td>...</td>\n",
       "      <td>...</td>\n",
       "      <td>...</td>\n",
       "      <td>...</td>\n",
       "      <td>...</td>\n",
       "      <td>...</td>\n",
       "    </tr>\n",
       "    <tr>\n",
       "      <th>28845</th>\n",
       "      <td>2022-12-31 21:30:00+02:00</td>\n",
       "      <td>667201.0</td>\n",
       "      <td>0.0</td>\n",
       "      <td>0.0</td>\n",
       "      <td>0.0</td>\n",
       "      <td>0.0</td>\n",
       "      <td>0.0</td>\n",
       "      <td>0.0</td>\n",
       "      <td>0.0</td>\n",
       "      <td>0.0</td>\n",
       "      <td>...</td>\n",
       "      <td>0.76</td>\n",
       "      <td>0.0</td>\n",
       "      <td>0.0</td>\n",
       "      <td>13.14</td>\n",
       "      <td>13.14</td>\n",
       "      <td>72.48</td>\n",
       "      <td>7.39</td>\n",
       "      <td>13.79</td>\n",
       "      <td>0.0</td>\n",
       "      <td>0.0</td>\n",
       "    </tr>\n",
       "    <tr>\n",
       "      <th>28846</th>\n",
       "      <td>2022-12-31 21:45:00+02:00</td>\n",
       "      <td>667204.0</td>\n",
       "      <td>0.0</td>\n",
       "      <td>0.0</td>\n",
       "      <td>0.0</td>\n",
       "      <td>0.0</td>\n",
       "      <td>0.0</td>\n",
       "      <td>0.0</td>\n",
       "      <td>0.0</td>\n",
       "      <td>0.0</td>\n",
       "      <td>...</td>\n",
       "      <td>1.00</td>\n",
       "      <td>0.0</td>\n",
       "      <td>0.0</td>\n",
       "      <td>13.13</td>\n",
       "      <td>13.13</td>\n",
       "      <td>72.07</td>\n",
       "      <td>7.46</td>\n",
       "      <td>13.93</td>\n",
       "      <td>0.0</td>\n",
       "      <td>0.0</td>\n",
       "    </tr>\n",
       "    <tr>\n",
       "      <th>28847</th>\n",
       "      <td>2022-12-31 22:00:00+02:00</td>\n",
       "      <td>667207.0</td>\n",
       "      <td>0.0</td>\n",
       "      <td>0.0</td>\n",
       "      <td>0.0</td>\n",
       "      <td>0.0</td>\n",
       "      <td>0.0</td>\n",
       "      <td>0.0</td>\n",
       "      <td>0.0</td>\n",
       "      <td>0.0</td>\n",
       "      <td>...</td>\n",
       "      <td>1.00</td>\n",
       "      <td>0.0</td>\n",
       "      <td>0.0</td>\n",
       "      <td>13.12</td>\n",
       "      <td>13.12</td>\n",
       "      <td>71.67</td>\n",
       "      <td>7.52</td>\n",
       "      <td>14.04</td>\n",
       "      <td>0.0</td>\n",
       "      <td>0.0</td>\n",
       "    </tr>\n",
       "    <tr>\n",
       "      <th>28848</th>\n",
       "      <td>2022-12-31 22:15:00+02:00</td>\n",
       "      <td>667210.0</td>\n",
       "      <td>0.0</td>\n",
       "      <td>0.0</td>\n",
       "      <td>0.0</td>\n",
       "      <td>0.0</td>\n",
       "      <td>0.0</td>\n",
       "      <td>0.0</td>\n",
       "      <td>0.0</td>\n",
       "      <td>0.0</td>\n",
       "      <td>...</td>\n",
       "      <td>1.00</td>\n",
       "      <td>0.0</td>\n",
       "      <td>0.0</td>\n",
       "      <td>13.10</td>\n",
       "      <td>13.10</td>\n",
       "      <td>71.36</td>\n",
       "      <td>7.55</td>\n",
       "      <td>14.10</td>\n",
       "      <td>0.0</td>\n",
       "      <td>0.0</td>\n",
       "    </tr>\n",
       "    <tr>\n",
       "      <th>28849</th>\n",
       "      <td>2022-12-31 22:30:00+02:00</td>\n",
       "      <td>667213.0</td>\n",
       "      <td>0.0</td>\n",
       "      <td>0.0</td>\n",
       "      <td>0.0</td>\n",
       "      <td>0.0</td>\n",
       "      <td>0.0</td>\n",
       "      <td>0.0</td>\n",
       "      <td>0.0</td>\n",
       "      <td>0.0</td>\n",
       "      <td>...</td>\n",
       "      <td>1.00</td>\n",
       "      <td>0.0</td>\n",
       "      <td>0.0</td>\n",
       "      <td>13.08</td>\n",
       "      <td>13.08</td>\n",
       "      <td>71.03</td>\n",
       "      <td>7.56</td>\n",
       "      <td>14.10</td>\n",
       "      <td>0.0</td>\n",
       "      <td>0.0</td>\n",
       "    </tr>\n",
       "  </tbody>\n",
       "</table>\n",
       "<p>28850 rows × 32 columns</p>\n",
       "</div>"
      ],
      "text/plain": [
       "                           date        id  Power_1  Power_2  Power_3  Power_4  \\\n",
       "0     2022-01-01 02:15:00+02:00  577035.0      0.0      0.0      0.0      0.0   \n",
       "1     2022-01-01 02:30:00+02:00  577038.0      0.0      0.0      0.0      0.0   \n",
       "2     2022-01-01 02:45:00+02:00  577041.0      0.0      0.0      0.0      0.0   \n",
       "3     2022-01-01 03:00:00+02:00  577044.0      0.0      0.0      0.0      0.0   \n",
       "4     2022-01-01 03:15:00+02:00  577047.0      0.0      0.0      0.0      0.0   \n",
       "...                         ...       ...      ...      ...      ...      ...   \n",
       "28845 2022-12-31 21:30:00+02:00  667201.0      0.0      0.0      0.0      0.0   \n",
       "28846 2022-12-31 21:45:00+02:00  667204.0      0.0      0.0      0.0      0.0   \n",
       "28847 2022-12-31 22:00:00+02:00  667207.0      0.0      0.0      0.0      0.0   \n",
       "28848 2022-12-31 22:15:00+02:00  667210.0      0.0      0.0      0.0      0.0   \n",
       "28849 2022-12-31 22:30:00+02:00  667213.0      0.0      0.0      0.0      0.0   \n",
       "\n",
       "       Power_5  Power_6  Power_7  Power_8  ...    CU   CM   CD   TT2M     ST  \\\n",
       "0          0.0      0.0      0.0      0.0  ...  0.00  0.0  0.0   8.38   8.38   \n",
       "1          0.0      0.0      0.0      0.0  ...  0.00  0.0  0.0   8.52   8.52   \n",
       "2          0.0      0.0      0.0      0.0  ...  0.00  0.0  0.0   8.66   8.66   \n",
       "3          0.0      0.0      0.0      0.0  ...  0.00  0.0  0.0   8.76   8.76   \n",
       "4          0.0      0.0      0.0      0.0  ...  0.00  0.0  0.0   8.74   8.74   \n",
       "...        ...      ...      ...      ...  ...   ...  ...  ...    ...    ...   \n",
       "28845      0.0      0.0      0.0      0.0  ...  0.76  0.0  0.0  13.14  13.14   \n",
       "28846      0.0      0.0      0.0      0.0  ...  1.00  0.0  0.0  13.13  13.13   \n",
       "28847      0.0      0.0      0.0      0.0  ...  1.00  0.0  0.0  13.12  13.12   \n",
       "28848      0.0      0.0      0.0      0.0  ...  1.00  0.0  0.0  13.10  13.10   \n",
       "28849      0.0      0.0      0.0      0.0  ...  1.00  0.0  0.0  13.08  13.08   \n",
       "\n",
       "        RH2m  WS10m  WS100m  PREC  SNOW  \n",
       "0      93.34   3.46    9.10   0.0   0.0  \n",
       "1      92.18   3.81    9.52   0.0   0.0  \n",
       "2      90.91   4.15    9.66   0.0   0.0  \n",
       "3      90.18   4.36    9.50   0.0   0.0  \n",
       "4      90.39   4.38    9.16   0.0   0.0  \n",
       "...      ...    ...     ...   ...   ...  \n",
       "28845  72.48   7.39   13.79   0.0   0.0  \n",
       "28846  72.07   7.46   13.93   0.0   0.0  \n",
       "28847  71.67   7.52   14.04   0.0   0.0  \n",
       "28848  71.36   7.55   14.10   0.0   0.0  \n",
       "28849  71.03   7.56   14.10   0.0   0.0  \n",
       "\n",
       "[28850 rows x 32 columns]"
      ]
     },
     "execution_count": 3,
     "metadata": {},
     "output_type": "execute_result"
    }
   ],
   "source": [
    "df = pd.read_csv('data/cleaned.csv', sep=';',  parse_dates=[0])\n",
    "df.rename(columns={'Unnamed: 0': 'date'}, inplace=True)\n",
    "df['date'] = pd.to_datetime(df['date'])\n",
    "df"
   ]
  },
  {
   "cell_type": "code",
   "execution_count": 4,
   "metadata": {},
   "outputs": [
    {
     "data": {
      "text/html": [
       "<div>\n",
       "<style scoped>\n",
       "    .dataframe tbody tr th:only-of-type {\n",
       "        vertical-align: middle;\n",
       "    }\n",
       "\n",
       "    .dataframe tbody tr th {\n",
       "        vertical-align: top;\n",
       "    }\n",
       "\n",
       "    .dataframe thead th {\n",
       "        text-align: right;\n",
       "    }\n",
       "</style>\n",
       "<table border=\"1\" class=\"dataframe\">\n",
       "  <thead>\n",
       "    <tr style=\"text-align: right;\">\n",
       "      <th></th>\n",
       "      <th>Power_Total</th>\n",
       "      <th>date</th>\n",
       "      <th>SWD</th>\n",
       "      <th>SWDtop</th>\n",
       "      <th>CU</th>\n",
       "      <th>CM</th>\n",
       "      <th>CD</th>\n",
       "      <th>TT2M</th>\n",
       "      <th>ST</th>\n",
       "      <th>RH2m</th>\n",
       "      <th>WS10m</th>\n",
       "      <th>WS100m</th>\n",
       "      <th>PREC</th>\n",
       "      <th>SNOW</th>\n",
       "    </tr>\n",
       "  </thead>\n",
       "  <tbody>\n",
       "    <tr>\n",
       "      <th>0</th>\n",
       "      <td>0.0</td>\n",
       "      <td>2022-01-01 02:15:00+02:00</td>\n",
       "      <td>0.0</td>\n",
       "      <td>0.0</td>\n",
       "      <td>0.0</td>\n",
       "      <td>0.0</td>\n",
       "      <td>0.0</td>\n",
       "      <td>8.38</td>\n",
       "      <td>8.38</td>\n",
       "      <td>93.34</td>\n",
       "      <td>3.46</td>\n",
       "      <td>9.10</td>\n",
       "      <td>0.0</td>\n",
       "      <td>0.0</td>\n",
       "    </tr>\n",
       "    <tr>\n",
       "      <th>1</th>\n",
       "      <td>0.0</td>\n",
       "      <td>2022-01-01 02:30:00+02:00</td>\n",
       "      <td>0.0</td>\n",
       "      <td>0.0</td>\n",
       "      <td>0.0</td>\n",
       "      <td>0.0</td>\n",
       "      <td>0.0</td>\n",
       "      <td>8.52</td>\n",
       "      <td>8.52</td>\n",
       "      <td>92.18</td>\n",
       "      <td>3.81</td>\n",
       "      <td>9.52</td>\n",
       "      <td>0.0</td>\n",
       "      <td>0.0</td>\n",
       "    </tr>\n",
       "    <tr>\n",
       "      <th>2</th>\n",
       "      <td>0.0</td>\n",
       "      <td>2022-01-01 02:45:00+02:00</td>\n",
       "      <td>0.0</td>\n",
       "      <td>0.0</td>\n",
       "      <td>0.0</td>\n",
       "      <td>0.0</td>\n",
       "      <td>0.0</td>\n",
       "      <td>8.66</td>\n",
       "      <td>8.66</td>\n",
       "      <td>90.91</td>\n",
       "      <td>4.15</td>\n",
       "      <td>9.66</td>\n",
       "      <td>0.0</td>\n",
       "      <td>0.0</td>\n",
       "    </tr>\n",
       "    <tr>\n",
       "      <th>3</th>\n",
       "      <td>0.0</td>\n",
       "      <td>2022-01-01 03:00:00+02:00</td>\n",
       "      <td>0.0</td>\n",
       "      <td>0.0</td>\n",
       "      <td>0.0</td>\n",
       "      <td>0.0</td>\n",
       "      <td>0.0</td>\n",
       "      <td>8.76</td>\n",
       "      <td>8.76</td>\n",
       "      <td>90.18</td>\n",
       "      <td>4.36</td>\n",
       "      <td>9.50</td>\n",
       "      <td>0.0</td>\n",
       "      <td>0.0</td>\n",
       "    </tr>\n",
       "    <tr>\n",
       "      <th>4</th>\n",
       "      <td>0.0</td>\n",
       "      <td>2022-01-01 03:15:00+02:00</td>\n",
       "      <td>0.0</td>\n",
       "      <td>0.0</td>\n",
       "      <td>0.0</td>\n",
       "      <td>0.0</td>\n",
       "      <td>0.0</td>\n",
       "      <td>8.74</td>\n",
       "      <td>8.74</td>\n",
       "      <td>90.39</td>\n",
       "      <td>4.38</td>\n",
       "      <td>9.16</td>\n",
       "      <td>0.0</td>\n",
       "      <td>0.0</td>\n",
       "    </tr>\n",
       "  </tbody>\n",
       "</table>\n",
       "</div>"
      ],
      "text/plain": [
       "   Power_Total                      date  SWD  SWDtop   CU   CM   CD  TT2M  \\\n",
       "0          0.0 2022-01-01 02:15:00+02:00  0.0     0.0  0.0  0.0  0.0  8.38   \n",
       "1          0.0 2022-01-01 02:30:00+02:00  0.0     0.0  0.0  0.0  0.0  8.52   \n",
       "2          0.0 2022-01-01 02:45:00+02:00  0.0     0.0  0.0  0.0  0.0  8.66   \n",
       "3          0.0 2022-01-01 03:00:00+02:00  0.0     0.0  0.0  0.0  0.0  8.76   \n",
       "4          0.0 2022-01-01 03:15:00+02:00  0.0     0.0  0.0  0.0  0.0  8.74   \n",
       "\n",
       "     ST   RH2m  WS10m  WS100m  PREC  SNOW  \n",
       "0  8.38  93.34   3.46    9.10   0.0   0.0  \n",
       "1  8.52  92.18   3.81    9.52   0.0   0.0  \n",
       "2  8.66  90.91   4.15    9.66   0.0   0.0  \n",
       "3  8.76  90.18   4.36    9.50   0.0   0.0  \n",
       "4  8.74  90.39   4.38    9.16   0.0   0.0  "
      ]
     },
     "execution_count": 4,
     "metadata": {},
     "output_type": "execute_result"
    }
   ],
   "source": [
    "col_to_keep = ['Power_Total','date' ,'SWD', 'SWDtop', 'CU', 'CM', 'CD', 'TT2M', 'ST', 'RH2m', 'WS10m', 'WS100m', 'PREC', 'SNOW']\n",
    "df = df.loc[:,col_to_keep]\n",
    "df.dropna(inplace=True)\n",
    "df.head()"
   ]
  },
  {
   "cell_type": "code",
   "execution_count": 5,
   "metadata": {},
   "outputs": [
    {
     "data": {
      "text/html": [
       "<div>\n",
       "<style scoped>\n",
       "    .dataframe tbody tr th:only-of-type {\n",
       "        vertical-align: middle;\n",
       "    }\n",
       "\n",
       "    .dataframe tbody tr th {\n",
       "        vertical-align: top;\n",
       "    }\n",
       "\n",
       "    .dataframe thead th {\n",
       "        text-align: right;\n",
       "    }\n",
       "</style>\n",
       "<table border=\"1\" class=\"dataframe\">\n",
       "  <thead>\n",
       "    <tr style=\"text-align: right;\">\n",
       "      <th></th>\n",
       "      <th>Power_Total</th>\n",
       "      <th>SWD</th>\n",
       "      <th>SWDtop</th>\n",
       "      <th>CU</th>\n",
       "      <th>CM</th>\n",
       "      <th>CD</th>\n",
       "      <th>TT2M</th>\n",
       "      <th>ST</th>\n",
       "      <th>RH2m</th>\n",
       "      <th>WS10m</th>\n",
       "      <th>WS100m</th>\n",
       "      <th>PREC</th>\n",
       "      <th>SNOW</th>\n",
       "      <th>month</th>\n",
       "      <th>day</th>\n",
       "      <th>hour</th>\n",
       "      <th>minutes</th>\n",
       "    </tr>\n",
       "  </thead>\n",
       "  <tbody>\n",
       "    <tr>\n",
       "      <th>0</th>\n",
       "      <td>0.0</td>\n",
       "      <td>0.0</td>\n",
       "      <td>0.0</td>\n",
       "      <td>0.0</td>\n",
       "      <td>0.0</td>\n",
       "      <td>0.0</td>\n",
       "      <td>8.38</td>\n",
       "      <td>8.38</td>\n",
       "      <td>93.34</td>\n",
       "      <td>3.46</td>\n",
       "      <td>9.10</td>\n",
       "      <td>0.0</td>\n",
       "      <td>0.0</td>\n",
       "      <td>1</td>\n",
       "      <td>1</td>\n",
       "      <td>2</td>\n",
       "      <td>15</td>\n",
       "    </tr>\n",
       "    <tr>\n",
       "      <th>1</th>\n",
       "      <td>0.0</td>\n",
       "      <td>0.0</td>\n",
       "      <td>0.0</td>\n",
       "      <td>0.0</td>\n",
       "      <td>0.0</td>\n",
       "      <td>0.0</td>\n",
       "      <td>8.52</td>\n",
       "      <td>8.52</td>\n",
       "      <td>92.18</td>\n",
       "      <td>3.81</td>\n",
       "      <td>9.52</td>\n",
       "      <td>0.0</td>\n",
       "      <td>0.0</td>\n",
       "      <td>1</td>\n",
       "      <td>1</td>\n",
       "      <td>2</td>\n",
       "      <td>30</td>\n",
       "    </tr>\n",
       "    <tr>\n",
       "      <th>2</th>\n",
       "      <td>0.0</td>\n",
       "      <td>0.0</td>\n",
       "      <td>0.0</td>\n",
       "      <td>0.0</td>\n",
       "      <td>0.0</td>\n",
       "      <td>0.0</td>\n",
       "      <td>8.66</td>\n",
       "      <td>8.66</td>\n",
       "      <td>90.91</td>\n",
       "      <td>4.15</td>\n",
       "      <td>9.66</td>\n",
       "      <td>0.0</td>\n",
       "      <td>0.0</td>\n",
       "      <td>1</td>\n",
       "      <td>1</td>\n",
       "      <td>2</td>\n",
       "      <td>45</td>\n",
       "    </tr>\n",
       "    <tr>\n",
       "      <th>3</th>\n",
       "      <td>0.0</td>\n",
       "      <td>0.0</td>\n",
       "      <td>0.0</td>\n",
       "      <td>0.0</td>\n",
       "      <td>0.0</td>\n",
       "      <td>0.0</td>\n",
       "      <td>8.76</td>\n",
       "      <td>8.76</td>\n",
       "      <td>90.18</td>\n",
       "      <td>4.36</td>\n",
       "      <td>9.50</td>\n",
       "      <td>0.0</td>\n",
       "      <td>0.0</td>\n",
       "      <td>1</td>\n",
       "      <td>1</td>\n",
       "      <td>3</td>\n",
       "      <td>0</td>\n",
       "    </tr>\n",
       "    <tr>\n",
       "      <th>4</th>\n",
       "      <td>0.0</td>\n",
       "      <td>0.0</td>\n",
       "      <td>0.0</td>\n",
       "      <td>0.0</td>\n",
       "      <td>0.0</td>\n",
       "      <td>0.0</td>\n",
       "      <td>8.74</td>\n",
       "      <td>8.74</td>\n",
       "      <td>90.39</td>\n",
       "      <td>4.38</td>\n",
       "      <td>9.16</td>\n",
       "      <td>0.0</td>\n",
       "      <td>0.0</td>\n",
       "      <td>1</td>\n",
       "      <td>1</td>\n",
       "      <td>3</td>\n",
       "      <td>15</td>\n",
       "    </tr>\n",
       "  </tbody>\n",
       "</table>\n",
       "</div>"
      ],
      "text/plain": [
       "   Power_Total  SWD  SWDtop   CU   CM   CD  TT2M    ST   RH2m  WS10m  WS100m  \\\n",
       "0          0.0  0.0     0.0  0.0  0.0  0.0  8.38  8.38  93.34   3.46    9.10   \n",
       "1          0.0  0.0     0.0  0.0  0.0  0.0  8.52  8.52  92.18   3.81    9.52   \n",
       "2          0.0  0.0     0.0  0.0  0.0  0.0  8.66  8.66  90.91   4.15    9.66   \n",
       "3          0.0  0.0     0.0  0.0  0.0  0.0  8.76  8.76  90.18   4.36    9.50   \n",
       "4          0.0  0.0     0.0  0.0  0.0  0.0  8.74  8.74  90.39   4.38    9.16   \n",
       "\n",
       "   PREC  SNOW  month  day  hour  minutes  \n",
       "0   0.0   0.0      1    1     2       15  \n",
       "1   0.0   0.0      1    1     2       30  \n",
       "2   0.0   0.0      1    1     2       45  \n",
       "3   0.0   0.0      1    1     3        0  \n",
       "4   0.0   0.0      1    1     3       15  "
      ]
     },
     "execution_count": 5,
     "metadata": {},
     "output_type": "execute_result"
    }
   ],
   "source": [
    "#split the column date into month, day, hour, minutes\n",
    "df['month'] = df['date'].apply(lambda x: x.month)\n",
    "df['day'] = df['date'].apply(lambda x: x.day)\n",
    "df['hour'] = df['date'].apply(lambda x: x.hour)\n",
    "df['minutes'] = df['date'].apply(lambda x: x.minute)\n",
    "df.drop(columns=['date'], inplace=True)\n",
    "df.head()"
   ]
  },
  {
   "cell_type": "code",
   "execution_count": 6,
   "metadata": {},
   "outputs": [],
   "source": [
    "class TriplePs(Dataset):\n",
    "    def __init__(self, data, test = False, test_size = 0.2, seed=42):\n",
    "        self.data = data\n",
    "        self.nb_input = len (data.columns) - 1\n",
    "        self.input = data.iloc[:, 1:]\n",
    "        self.output = data.iloc[:, 0]\n",
    "        self.test = test\n",
    "        self.train_size = 1-test_size\n",
    "\n",
    "        self.seed = seed\n",
    "        np.random.seed(seed)\n",
    "\n",
    "        self.idx = np.arange(len(data))\n",
    "        np.random.shuffle(self.idx)\n",
    "        self.train_idx = self.idx[:int(len(self.idx)*self.train_size)]\n",
    "        self.test_idx = self.idx[int(len(self.idx)*self.train_size):]\n",
    "\n",
    "        #convert to tensor\n",
    "        self.input = torch.tensor(self.input.values, dtype=torch.float32)\n",
    "        self.output = torch.tensor(self.output.values, dtype=torch.float32)\n",
    "\n",
    "        if self.test:\n",
    "            self.input = self.input[self.test_idx]\n",
    "            self.output = self.output[self.test_idx]\n",
    "        else:\n",
    "            self.input = self.input[self.train_idx]\n",
    "            self.output = self.output[self.train_idx]\n",
    "\n",
    "\n",
    "    def __len__(self):\n",
    "        return len(self.input)\n",
    "    \n",
    "    def __getitem__(self, idx):\n",
    "        return self.input[idx], self.output[idx]\n",
    "    \n"
   ]
  },
  {
   "cell_type": "code",
   "execution_count": 7,
   "metadata": {},
   "outputs": [],
   "source": [
    "trainset = TriplePs(df)\n",
    "testset = TriplePs(df, test=True)"
   ]
  },
  {
   "cell_type": "code",
   "execution_count": 8,
   "metadata": {},
   "outputs": [],
   "source": [
    "trainloader = DataLoader(trainset, batch_size=4, shuffle=True, num_workers=2)\n",
    "testloader = DataLoader(testset, batch_size=4, shuffle=False, num_workers=2)"
   ]
  },
  {
   "cell_type": "code",
   "execution_count": 9,
   "metadata": {},
   "outputs": [
    {
     "data": {
      "text/plain": [
       "[tensor([[6.7902e+02, 1.1261e+03, 1.0000e+00, 0.0000e+00, 0.0000e+00, 2.2460e+01,\n",
       "          2.2460e+01, 5.6460e+01, 2.7900e+00, 3.9200e+00, 0.0000e+00, 0.0000e+00,\n",
       "          7.0000e+00, 2.2000e+01, 1.4000e+01, 3.0000e+01],\n",
       "         [2.0539e+02, 3.8140e+02, 4.1000e-01, 0.0000e+00, 0.0000e+00, 1.2530e+01,\n",
       "          1.2530e+01, 8.2900e+01, 1.1200e+00, 2.2100e+00, 0.0000e+00, 0.0000e+00,\n",
       "          7.0000e+00, 6.0000e+00, 7.0000e+00, 4.5000e+01],\n",
       "         [4.0000e+00, 2.8860e+01, 0.0000e+00, 0.0000e+00, 0.0000e+00, 6.3200e+00,\n",
       "          6.3200e+00, 9.4530e+01, 3.0900e+00, 6.2400e+00, 0.0000e+00, 0.0000e+00,\n",
       "          2.0000e+00, 9.0000e+00, 1.8000e+01, 1.5000e+01],\n",
       "         [0.0000e+00, 0.0000e+00, 1.0000e+00, 1.0000e+00, 1.0000e+00, 2.6800e+00,\n",
       "          2.6800e+00, 9.7030e+01, 6.1900e+00, 1.1740e+01, 1.6000e-01, 3.2320e+01,\n",
       "          1.0000e+00, 8.0000e+00, 1.8000e+01, 4.5000e+01]]),\n",
       " tensor([263234., 101742.,      0.,      0.])]"
      ]
     },
     "execution_count": 9,
     "metadata": {},
     "output_type": "execute_result"
    }
   ],
   "source": [
    "next(iter(trainloader))"
   ]
  },
  {
   "cell_type": "markdown",
   "metadata": {},
   "source": [
    "### Neural Network to predict the photovoltaic power generation using simple regression"
   ]
  },
  {
   "cell_type": "code",
   "execution_count": 10,
   "metadata": {},
   "outputs": [],
   "source": [
    "class Net(nn.Module):\n",
    "    def __init__(self, len):\n",
    "        super(Net, self).__init__()\n",
    "        self.fc1 = nn.Linear(len, 12)\n",
    "        self.fc2 = nn.Linear(12, 24)\n",
    "        self.fc3 = nn.Linear(24, 1)\n",
    "\n",
    "        \n",
    "    def forward(self, x):\n",
    "        x = F.relu(self.fc1(x))\n",
    "        x = F.relu(self.fc2(x))\n",
    "        x = self.fc3(x)\n",
    "        return x"
   ]
  },
  {
   "cell_type": "code",
   "execution_count": 11,
   "metadata": {},
   "outputs": [],
   "source": [
    "net = Net(len(trainset.input[0]))\n",
    "criterion = nn.MSELoss()\n",
    "lr = 0.001\n",
    "optimizer = optim.Adam(net.parameters(), lr=lr)\n",
    "nb_epoch = 15\n",
    "losses = []\n"
   ]
  },
  {
   "cell_type": "code",
   "execution_count": 16,
   "metadata": {},
   "outputs": [
    {
     "name": "stderr",
     "output_type": "stream",
     "text": [
      "Failed to detect the name of this notebook, you can set it manually with the WANDB_NOTEBOOK_NAME environment variable to enable code saving.\n",
      "\u001b[34m\u001b[1mwandb\u001b[0m: Currently logged in as: \u001b[33mg-delporte\u001b[0m. Use \u001b[1m`wandb login --relogin`\u001b[0m to force relogin\n"
     ]
    },
    {
     "data": {
      "text/html": [
       "wandb version 0.16.6 is available!  To upgrade, please run:\n",
       " $ pip install wandb --upgrade"
      ],
      "text/plain": [
       "<IPython.core.display.HTML object>"
      ]
     },
     "metadata": {},
     "output_type": "display_data"
    },
    {
     "data": {
      "text/html": [
       "Tracking run with wandb version 0.16.4"
      ],
      "text/plain": [
       "<IPython.core.display.HTML object>"
      ]
     },
     "metadata": {},
     "output_type": "display_data"
    },
    {
     "data": {
      "text/html": [
       "Run data is saved locally in <code>/home/guilome/Documents/Universite/M1/Q2/Machine Learning System Design/MLOps-TripleP/data-modelling/nn/wandb/run-20240501_200020-5j1i5ouf</code>"
      ],
      "text/plain": [
       "<IPython.core.display.HTML object>"
      ]
     },
     "metadata": {},
     "output_type": "display_data"
    },
    {
     "data": {
      "text/html": [
       "Syncing run <strong><a href='https://wandb.ai/g-delporte/dsp-project-2k24/runs/5j1i5ouf' target=\"_blank\">fanciful-planet-89</a></strong> to <a href='https://wandb.ai/g-delporte/dsp-project-2k24' target=\"_blank\">Weights & Biases</a> (<a href='https://wandb.me/run' target=\"_blank\">docs</a>)<br/>"
      ],
      "text/plain": [
       "<IPython.core.display.HTML object>"
      ]
     },
     "metadata": {},
     "output_type": "display_data"
    },
    {
     "data": {
      "text/html": [
       " View project at <a href='https://wandb.ai/g-delporte/dsp-project-2k24' target=\"_blank\">https://wandb.ai/g-delporte/dsp-project-2k24</a>"
      ],
      "text/plain": [
       "<IPython.core.display.HTML object>"
      ]
     },
     "metadata": {},
     "output_type": "display_data"
    },
    {
     "data": {
      "text/html": [
       " View run at <a href='https://wandb.ai/g-delporte/dsp-project-2k24/runs/5j1i5ouf' target=\"_blank\">https://wandb.ai/g-delporte/dsp-project-2k24/runs/5j1i5ouf</a>"
      ],
      "text/plain": [
       "<IPython.core.display.HTML object>"
      ]
     },
     "metadata": {},
     "output_type": "display_data"
    },
    {
     "name": "stderr",
     "output_type": "stream",
     "text": [
      "/tmp/ipykernel_35726/1934940941.py:14: UserWarning: To copy construct from a tensor, it is recommended to use sourceTensor.clone().detach() or sourceTensor.clone().detach().requires_grad_(True), rather than torch.tensor(sourceTensor).\n",
      "  inputs = torch.tensor(inputs, dtype=torch.float32)\n",
      "/tmp/ipykernel_35726/1934940941.py:15: UserWarning: To copy construct from a tensor, it is recommended to use sourceTensor.clone().detach() or sourceTensor.clone().detach().requires_grad_(True), rather than torch.tensor(sourceTensor).\n",
      "  labels = torch.tensor(labels, dtype=torch.float32)\n",
      "/home/guilome/miniconda3/lib/python3.11/site-packages/torch/nn/modules/loss.py:535: UserWarning: Using a target size (torch.Size([4])) that is different to the input size (torch.Size([4, 1])). This will likely lead to incorrect results due to broadcasting. Please ensure they have the same size.\n",
      "  return F.mse_loss(input, target, reduction=self.reduction)\n"
     ]
    },
    {
     "name": "stdout",
     "output_type": "stream",
     "text": [
      "[1, 2000] loss: 10444994309.234247\n",
      "[1, 4000] loss: 9969889773.248\n",
      "[2, 2000] loss: 9660161263.952\n",
      "[2, 4000] loss: 9044886170.4\n",
      "[3, 2000] loss: 9349073675.648\n",
      "[3, 4000] loss: 9228831950.88\n",
      "[4, 2000] loss: 9265330575.456\n",
      "[4, 4000] loss: 9391736665.376\n",
      "[5, 2000] loss: 9658255581.216\n",
      "[5, 4000] loss: 9096115346.56\n",
      "[6, 2000] loss: 9305763362.048\n",
      "[6, 4000] loss: 9293440195.104\n",
      "[7, 2000] loss: 9555407016.544\n",
      "[7, 4000] loss: 9335225599.616\n",
      "[8, 2000] loss: 9461029573.344\n",
      "[8, 4000] loss: 9198900163.136\n",
      "[9, 2000] loss: 9143242176.8\n",
      "[9, 4000] loss: 9484200158.464\n",
      "[10, 2000] loss: 9301301144.384\n",
      "[10, 4000] loss: 9412639155.616\n",
      "[11, 2000] loss: 9501955136.352\n",
      "[11, 4000] loss: 9406506547.792\n",
      "[12, 2000] loss: 8921588234.112\n",
      "[12, 4000] loss: 9497076444.0\n",
      "[13, 2000] loss: 9308824371.904\n",
      "[13, 4000] loss: 9514668383.168\n",
      "[14, 2000] loss: 9263013950.432\n",
      "[14, 4000] loss: 9391994343.136\n",
      "[15, 2000] loss: 9212793963.808\n",
      "[15, 4000] loss: 9322989904.128\n"
     ]
    }
   ],
   "source": [
    "wandb.init(project=\"mlopstriplep\", entity=\"g-delporte\")\n",
    "wandb.config = {\n",
    "\"learning_rate\": lr,\n",
    "\"epochs\": nb_epoch,\n",
    "\"batch_size\": 4,\n",
    "}\n",
    "\n",
    "wandb.watch(net, criterion, log=\"all\", log_freq=10)\n",
    "\n",
    "for epoch in range(nb_epoch):\n",
    "    running_loss = 0.0\n",
    "    for i, data in enumerate(trainloader, 0):\n",
    "        inputs, labels = data\n",
    "        inputs = torch.tensor(inputs, dtype=torch.float32)\n",
    "        labels = torch.tensor(labels, dtype=torch.float32)\n",
    "        \n",
    "        optimizer.zero_grad()\n",
    "        outputs = net(inputs)\n",
    "        loss = criterion(outputs, labels)\n",
    "        loss.backward()\n",
    "        optimizer.step()\n",
    "\n",
    "        running_loss += loss.item()\n",
    "\n",
    "        if i % 2000 == 1999:\n",
    "            print(f'[{epoch + 1}, {i + 1}] loss: {running_loss / 2000}')\n",
    "            losses.append(running_loss)\n",
    "            running_loss = 0.0\n",
    "    wandb.log({\n",
    "        \"epoch\": epoch,\n",
    "        \"train_loss\": losses[-1],\n",
    "    })\n",
    "\n",
    "wandb.finish()"
   ]
  },
  {
   "cell_type": "code",
   "execution_count": 17,
   "metadata": {},
   "outputs": [
    {
     "data": {
      "image/png": "[encoded data removed]",
      "text/plain": [
       "<Figure size 640x480 with 1 Axes>"
      ]
     },
     "metadata": {},
     "output_type": "display_data"
    }
   ],
   "source": [
    "# plot the losses\n",
    "plt.plot(losses)\n",
    "plt.xlabel('iteration')\n",
    "plt.ylabel('loss')\n",
    "plt.title('Training loss of the regression model')\n",
    "plt.show()"
   ]
  },
  {
   "cell_type": "markdown",
   "metadata": {},
   "source": [
    "### Neural Network to predict the photovoltaic power generation with a normal distribution"
   ]
  },
  {
   "cell_type": "code",
   "execution_count": 12,
   "metadata": {},
   "outputs": [],
   "source": [
    "class Net_Normal(nn.Module):\n",
    "    def __init__(self, len):\n",
    "        super(Net_Normal, self).__init__()  # Corrected here\n",
    "        self.fc1 = nn.Linear(len, 12)\n",
    "        self.fc2 = nn.Linear(12, 24)\n",
    "        self.fc3 = nn.Linear(24, 2)\n",
    "\n",
    "    def reparametrize(self, mu, logvar):\n",
    "        std = torch.exp(0.5*logvar)\n",
    "        eps = torch.randn_like(std)\n",
    "        return mu + eps*std\n",
    "        \n",
    "    def forward(self, x):\n",
    "        x = F.relu(self.fc1(x))\n",
    "        x = F.relu(self.fc2(x))\n",
    "        x = self.fc3(x)\n",
    "        mu, logvar = torch.chunk(x, 2, dim=1)\n",
    "        return self.reparametrize(mu, logvar), mu, logvar\n"
   ]
  },
  {
   "cell_type": "code",
   "execution_count": 13,
   "metadata": {},
   "outputs": [],
   "source": [
    "\n",
    "net = Net_Normal(len(trainset.input[0]))\n",
    "criterion = nn.MSELoss()\n",
    "optimizer = optim.Adam(net.parameters(), lr=0.001)\n",
    "nb_epoch = 15\n",
    "losses = []\n"
   ]
  },
  {
   "cell_type": "code",
   "execution_count": 14,
   "metadata": {},
   "outputs": [
    {
     "name": "stderr",
     "output_type": "stream",
     "text": [
      "Failed to detect the name of this notebook, you can set it manually with the WANDB_NOTEBOOK_NAME environment variable to enable code saving.\n",
      "\u001b[34m\u001b[1mwandb\u001b[0m: Currently logged in as: \u001b[33mg-delporte\u001b[0m. Use \u001b[1m`wandb login --relogin`\u001b[0m to force relogin\n"
     ]
    },
    {
     "data": {
      "text/html": [
       "wandb version 0.16.6 is available!  To upgrade, please run:\n",
       " $ pip install wandb --upgrade"
      ],
      "text/plain": [
       "<IPython.core.display.HTML object>"
      ]
     },
     "metadata": {},
     "output_type": "display_data"
    },
    {
     "data": {
      "text/html": [
       "Tracking run with wandb version 0.16.4"
      ],
      "text/plain": [
       "<IPython.core.display.HTML object>"
      ]
     },
     "metadata": {},
     "output_type": "display_data"
    },
    {
     "data": {
      "text/html": [
       "Run data is saved locally in <code>/home/guilome/Documents/Universite/M1/Q2/Machine Learning System Design/MLOps-TripleP/data-modelling/nn/wandb/run-20240501_200858-dduqi456</code>"
      ],
      "text/plain": [
       "<IPython.core.display.HTML object>"
      ]
     },
     "metadata": {},
     "output_type": "display_data"
    },
    {
     "data": {
      "text/html": [
       "Syncing run <strong><a href='https://wandb.ai/g-delporte/mlopstriplep/runs/dduqi456' target=\"_blank\">chocolate-frost-2</a></strong> to <a href='https://wandb.ai/g-delporte/mlopstriplep' target=\"_blank\">Weights & Biases</a> (<a href='https://wandb.me/run' target=\"_blank\">docs</a>)<br/>"
      ],
      "text/plain": [
       "<IPython.core.display.HTML object>"
      ]
     },
     "metadata": {},
     "output_type": "display_data"
    },
    {
     "data": {
      "text/html": [
       " View project at <a href='https://wandb.ai/g-delporte/mlopstriplep' target=\"_blank\">https://wandb.ai/g-delporte/mlopstriplep</a>"
      ],
      "text/plain": [
       "<IPython.core.display.HTML object>"
      ]
     },
     "metadata": {},
     "output_type": "display_data"
    },
    {
     "data": {
      "text/html": [
       " View run at <a href='https://wandb.ai/g-delporte/mlopstriplep/runs/dduqi456' target=\"_blank\">https://wandb.ai/g-delporte/mlopstriplep/runs/dduqi456</a>"
      ],
      "text/plain": [
       "<IPython.core.display.HTML object>"
      ]
     },
     "metadata": {},
     "output_type": "display_data"
    },
    {
     "name": "stderr",
     "output_type": "stream",
     "text": [
      "/tmp/ipykernel_37786/3735338263.py:14: UserWarning: To copy construct from a tensor, it is recommended to use sourceTensor.clone().detach() or sourceTensor.clone().detach().requires_grad_(True), rather than torch.tensor(sourceTensor).\n",
      "  inputs = torch.tensor(inputs, dtype=torch.float32)\n",
      "/tmp/ipykernel_37786/3735338263.py:15: UserWarning: To copy construct from a tensor, it is recommended to use sourceTensor.clone().detach() or sourceTensor.clone().detach().requires_grad_(True), rather than torch.tensor(sourceTensor).\n",
      "  labels = torch.tensor(labels, dtype=torch.float32)\n",
      "/home/guilome/miniconda3/lib/python3.11/site-packages/torch/nn/modules/loss.py:535: UserWarning: Using a target size (torch.Size([4])) that is different to the input size (torch.Size([4, 1])). This will likely lead to incorrect results due to broadcasting. Please ensure they have the same size.\n",
      "  return F.mse_loss(input, target, reduction=self.reduction)\n"
     ]
    },
    {
     "name": "stdout",
     "output_type": "stream",
     "text": [
      "[1, 2000] loss: 1775860192329.4934\n",
      "[1, 4000] loss: 13001406146.613874\n",
      "[2, 2000] loss: 11554880152.875\n",
      "[2, 4000] loss: 11259711759.248\n",
      "[3, 2000] loss: 10112593824.284\n",
      "[3, 4000] loss: 10525922914.136\n",
      "[4, 2000] loss: 10348490153.56\n",
      "[4, 4000] loss: 9527024891.144\n",
      "[5, 2000] loss: 9810627964.704\n",
      "[5, 4000] loss: 9440554542.8\n",
      "[6, 2000] loss: 9561460105.984\n",
      "[6, 4000] loss: 9166874748.784\n",
      "[7, 2000] loss: 9547651180.432\n",
      "[7, 4000] loss: 9078276810.88\n",
      "[8, 2000] loss: 9219633196.528\n",
      "[8, 4000] loss: 9168928553.344\n",
      "[9, 2000] loss: 9554330579.776\n",
      "[9, 4000] loss: 8923767037.64\n",
      "[10, 2000] loss: 9498806350.464\n",
      "[10, 4000] loss: 9247990508.608\n",
      "[11, 2000] loss: 9513011331.392\n",
      "[11, 4000] loss: 9121489824.544\n",
      "[12, 2000] loss: 9710351279.696\n",
      "[12, 4000] loss: 9030657152.928\n",
      "[13, 2000] loss: 9437842378.08\n",
      "[13, 4000] loss: 9341634841.568\n",
      "[14, 2000] loss: 9342286968.672\n",
      "[14, 4000] loss: 9759156033.936\n",
      "[15, 2000] loss: 9591019968.672\n",
      "[15, 4000] loss: 9177671129.664\n"
     ]
    },
    {
     "name": "stderr",
     "output_type": "stream",
     "text": [
      "wandb: WARNING Source type is set to 'repo' but some required information is missing from the environment. A job will not be created from this run. See https://docs.wandb.ai/guides/launch/create-job\n"
     ]
    },
    {
     "data": {
      "application/vnd.jupyter.widget-view+json": {
       "model_id": "e2615733d2524df09bb72306b2ae6929",
       "version_major": 2,
       "version_minor": 0
      },
      "text/plain": [
       "VBox(children=(Label(value='0.002 MB of 0.002 MB uploaded\\r'), FloatProgress(value=1.0, max=1.0)))"
      ]
     },
     "metadata": {},
     "output_type": "display_data"
    },
    {
     "data": {
      "text/html": [
       "<style>\n",
       "    table.wandb td:nth-child(1) { padding: 0 10px; text-align: left ; width: auto;} td:nth-child(2) {text-align: left ; width: 100%}\n",
       "    .wandb-row { display: flex; flex-direction: row; flex-wrap: wrap; justify-content: flex-start; width: 100% }\n",
       "    .wandb-col { display: flex; flex-direction: column; flex-basis: 100%; flex: 1; padding: 10px; }\n",
       "    </style>\n",
       "<div class=\"wandb-row\"><div class=\"wandb-col\"><h3>Run history:</h3><br/><table class=\"wandb\"><tr><td>epoch</td><td>▁▁▂▃▃▃▄▅▅▅▆▇▇▇█</td></tr><tr><td>train_loss</td><td>█▅▄▂▂▁▁▁▁▂▁▁▂▂▁</td></tr></table><br/></div><div class=\"wandb-col\"><h3>Run summary:</h3><br/><table class=\"wandb\"><tr><td>epoch</td><td>14</td></tr><tr><td>train_loss</td><td>18355342259328.0</td></tr></table><br/></div></div>"
      ],
      "text/plain": [
       "<IPython.core.display.HTML object>"
      ]
     },
     "metadata": {},
     "output_type": "display_data"
    },
    {
     "data": {
      "text/html": [
       " View run <strong style=\"color:#cdcd00\">chocolate-frost-2</strong> at: <a href='https://wandb.ai/g-delporte/mlopstriplep/runs/dduqi456' target=\"_blank\">https://wandb.ai/g-delporte/mlopstriplep/runs/dduqi456</a><br/>Synced 6 W&B file(s), 0 media file(s), 0 artifact file(s) and 0 other file(s)"
      ],
      "text/plain": [
       "<IPython.core.display.HTML object>"
      ]
     },
     "metadata": {},
     "output_type": "display_data"
    },
    {
     "data": {
      "text/html": [
       "Find logs at: <code>./wandb/run-20240501_200858-dduqi456/logs</code>"
      ],
      "text/plain": [
       "<IPython.core.display.HTML object>"
      ]
     },
     "metadata": {},
     "output_type": "display_data"
    }
   ],
   "source": [
    "wandb.init(project=\"mlopstriplep\", entity=\"g-delporte\")\n",
    "wandb.config = {\n",
    "\"learning_rate\": lr,\n",
    "\"epochs\": nb_epoch,\n",
    "\"batch_size\": 4,\n",
    "}\n",
    "\n",
    "wandb.watch(net, criterion, log=\"all\", log_freq=10)\n",
    "\n",
    "for epoch in range(nb_epoch):\n",
    "    running_loss = 0.0\n",
    "    for i, data in enumerate(trainloader, 0):\n",
    "        inputs, labels = data\n",
    "        inputs = torch.tensor(inputs, dtype=torch.float32)\n",
    "        labels = torch.tensor(labels, dtype=torch.float32)\n",
    "        \n",
    "        optimizer.zero_grad()\n",
    "        outputs, mu, logvar = net(inputs)\n",
    "        loss = criterion(outputs, labels)\n",
    "        loss.backward()\n",
    "        optimizer.step()\n",
    "\n",
    "        running_loss += loss.item()\n",
    "        if i % 2000 == 1999:\n",
    "            print(f'[{epoch + 1}, {i + 1}] loss: {running_loss / 2000}')\n",
    "            losses.append(running_loss)\n",
    "            running_loss = 0.0\n",
    "    wandb.log({\n",
    "        \"epoch\": epoch,\n",
    "        \"train_loss\": losses[-1],\n",
    "    })\n",
    "\n",
    "wandb.finish()"
   ]
  },
  {
   "cell_type": "code",
   "execution_count": 16,
   "metadata": {},
   "outputs": [
    {
     "data": {
      "image/png": "[encoded data removed]",
      "text/plain": [
       "<Figure size 640x480 with 1 Axes>"
      ]
     },
     "metadata": {},
     "output_type": "display_data"
    }
   ],
   "source": [
    "# plot the losses\n",
    "plt.plot(losses)\n",
    "plt.title('Training loss for the Normal prediction')\n",
    "plt.xlabel('iteration')\n",
    "plt.ylabel('loss')\n",
    "plt.show()"
   ]
  }
 ],
 "metadata": {
  "kernelspec": {
   "display_name": "MLOps",
   "language": "python",
   "name": "python3"
  },
  "language_info": {
   "codemirror_mode": {
    "name": "ipython",
    "version": 3
   },
   "file_extension": ".py",
   "mimetype": "text/x-python",
   "name": "python",
   "nbconvert_exporter": "python",
   "pygments_lexer": "ipython3",
   "version": "3.11.4"
  }
 },
 "nbformat": 4,
 "nbformat_minor": 2
}
