{
 "cells": [
  {
   "cell_type": "markdown",
   "metadata": {},
   "source": [
    "Install the Google cloud storage library"
   ]
  },
  {
   "cell_type": "code",
   "execution_count": 1,
   "metadata": {},
   "outputs": [
    {
     "name": "stdout",
     "output_type": "stream",
     "text": [
      "Requirement already satisfied: google-cloud-storage in c:\\users\\ambir\\anaconda3\\envs\\mlops\\lib\\site-packages (2.16.0)\n",
      "Requirement already satisfied: google-auth<3.0dev,>=2.26.1 in c:\\users\\ambir\\anaconda3\\envs\\mlops\\lib\\site-packages (from google-cloud-storage) (2.29.0)\n",
      "Requirement already satisfied: google-api-core<3.0.0dev,>=2.15.0 in c:\\users\\ambir\\anaconda3\\envs\\mlops\\lib\\site-packages (from google-cloud-storage) (2.18.0)\n",
      "Requirement already satisfied: google-cloud-core<3.0dev,>=2.3.0 in c:\\users\\ambir\\anaconda3\\envs\\mlops\\lib\\site-packages (from google-cloud-storage) (2.4.1)\n",
      "Requirement already satisfied: google-resumable-media>=2.6.0 in c:\\users\\ambir\\anaconda3\\envs\\mlops\\lib\\site-packages (from google-cloud-storage) (2.7.0)\n",
      "Requirement already satisfied: requests<3.0.0dev,>=2.18.0 in c:\\users\\ambir\\anaconda3\\envs\\mlops\\lib\\site-packages (from google-cloud-storage) (2.31.0)\n",
      "Requirement already satisfied: google-crc32c<2.0dev,>=1.0 in c:\\users\\ambir\\anaconda3\\envs\\mlops\\lib\\site-packages (from google-cloud-storage) (1.5.0)\n",
      "Requirement already satisfied: googleapis-common-protos<2.0.dev0,>=1.56.2 in c:\\users\\ambir\\anaconda3\\envs\\mlops\\lib\\site-packages (from google-api-core<3.0.0dev,>=2.15.0->google-cloud-storage) (1.63.0)\n",
      "Requirement already satisfied: protobuf!=3.20.0,!=3.20.1,!=4.21.0,!=4.21.1,!=4.21.2,!=4.21.3,!=4.21.4,!=4.21.5,<5.0.0.dev0,>=3.19.5 in c:\\users\\ambir\\anaconda3\\envs\\mlops\\lib\\site-packages (from google-api-core<3.0.0dev,>=2.15.0->google-cloud-storage) (4.25.3)\n",
      "Requirement already satisfied: proto-plus<2.0.0dev,>=1.22.3 in c:\\users\\ambir\\anaconda3\\envs\\mlops\\lib\\site-packages (from google-api-core<3.0.0dev,>=2.15.0->google-cloud-storage) (1.23.0)\n",
      "Requirement already satisfied: cachetools<6.0,>=2.0.0 in c:\\users\\ambir\\anaconda3\\envs\\mlops\\lib\\site-packages (from google-auth<3.0dev,>=2.26.1->google-cloud-storage) (5.3.3)\n",
      "Requirement already satisfied: pyasn1-modules>=0.2.1 in c:\\users\\ambir\\anaconda3\\envs\\mlops\\lib\\site-packages (from google-auth<3.0dev,>=2.26.1->google-cloud-storage) (0.4.0)\n",
      "Requirement already satisfied: rsa<5,>=3.1.4 in c:\\users\\ambir\\anaconda3\\envs\\mlops\\lib\\site-packages (from google-auth<3.0dev,>=2.26.1->google-cloud-storage) (4.9)\n",
      "Requirement already satisfied: charset-normalizer<4,>=2 in c:\\users\\ambir\\anaconda3\\envs\\mlops\\lib\\site-packages (from requests<3.0.0dev,>=2.18.0->google-cloud-storage) (3.3.2)\n",
      "Requirement already satisfied: idna<4,>=2.5 in c:\\users\\ambir\\anaconda3\\envs\\mlops\\lib\\site-packages (from requests<3.0.0dev,>=2.18.0->google-cloud-storage) (3.6)\n",
      "Requirement already satisfied: urllib3<3,>=1.21.1 in c:\\users\\ambir\\anaconda3\\envs\\mlops\\lib\\site-packages (from requests<3.0.0dev,>=2.18.0->google-cloud-storage) (2.2.1)\n",
      "Requirement already satisfied: certifi>=2017.4.17 in c:\\users\\ambir\\anaconda3\\envs\\mlops\\lib\\site-packages (from requests<3.0.0dev,>=2.18.0->google-cloud-storage) (2024.2.2)\n",
      "Requirement already satisfied: pyasn1<0.7.0,>=0.4.6 in c:\\users\\ambir\\anaconda3\\envs\\mlops\\lib\\site-packages (from pyasn1-modules>=0.2.1->google-auth<3.0dev,>=2.26.1->google-cloud-storage) (0.6.0)\n"
     ]
    }
   ],
   "source": [
    "!pip install google-cloud-storage"
   ]
  },
  {
   "cell_type": "code",
   "execution_count": 5,
   "metadata": {},
   "outputs": [],
   "source": [
    "import os\n",
    "os.environ[\"GOOGLE_APPLICATION_CREDENTIALS\"] = \"level-lyceum-400516-877e79f06a39.json\""
   ]
  },
  {
   "cell_type": "code",
   "execution_count": 6,
   "metadata": {},
   "outputs": [],
   "source": [
    "from google.cloud import storage\n",
    "\n",
    "def upload_blob(service_account_path, bucket_name, source_file_path, destination_blob_name):\n",
    "    \"\"\"Uploads a file to the specified bucket.\"\"\"\n",
    "    storage_client = storage.Client.from_service_account_json(service_account_path)\n",
    "    bucket = storage_client.bucket(bucket_name)\n",
    "    blob = bucket.blob(destination_blob_name)\n",
    "\n",
    "    blob.upload_from_filename(source_file_path)\n",
    "\n",
    "    print(f\"File {source_file_path} uploaded to {destination_blob_name}.\")\n"
   ]
  },
  {
   "cell_type": "code",
   "execution_count": 4,
   "metadata": {},
   "outputs": [
    {
     "ename": "TypeError",
     "evalue": "expected str, bytes or os.PathLike object, not NoneType",
     "output_type": "error",
     "traceback": [
      "\u001b[1;31m---------------------------------------------------------------------------\u001b[0m",
      "\u001b[1;31mTypeError\u001b[0m                                 Traceback (most recent call last)",
      "Cell \u001b[1;32mIn[4], line 10\u001b[0m\n\u001b[0;32m      7\u001b[0m source_file_path \u001b[38;5;241m=\u001b[39m \u001b[38;5;124m'\u001b[39m\u001b[38;5;124mdata/newData_7Days.csv\u001b[39m\u001b[38;5;124m'\u001b[39m\n\u001b[0;32m      8\u001b[0m destination_blob_name \u001b[38;5;241m=\u001b[39m \u001b[38;5;124m'\u001b[39m\u001b[38;5;124mnewData_7Days.csv\u001b[39m\u001b[38;5;124m'\u001b[39m\n\u001b[1;32m---> 10\u001b[0m \u001b[43mupload_blob\u001b[49m\u001b[43m(\u001b[49m\u001b[43mservice_account_path\u001b[49m\u001b[43m,\u001b[49m\u001b[43m \u001b[49m\u001b[43mbucket_name\u001b[49m\u001b[43m,\u001b[49m\u001b[43m \u001b[49m\u001b[43msource_file_path\u001b[49m\u001b[43m,\u001b[49m\u001b[43m \u001b[49m\u001b[43mdestination_blob_name\u001b[49m\u001b[43m)\u001b[49m\n",
      "Cell \u001b[1;32mIn[1], line 5\u001b[0m, in \u001b[0;36mupload_blob\u001b[1;34m(service_account_path, bucket_name, source_file_path, destination_blob_name)\u001b[0m\n\u001b[0;32m      3\u001b[0m \u001b[38;5;28;01mdef\u001b[39;00m \u001b[38;5;21mupload_blob\u001b[39m(service_account_path, bucket_name, source_file_path, destination_blob_name):\n\u001b[0;32m      4\u001b[0m \u001b[38;5;250m    \u001b[39m\u001b[38;5;124;03m\"\"\"Uploads a file to the specified bucket.\"\"\"\u001b[39;00m\n\u001b[1;32m----> 5\u001b[0m     storage_client \u001b[38;5;241m=\u001b[39m \u001b[43mstorage\u001b[49m\u001b[38;5;241;43m.\u001b[39;49m\u001b[43mClient\u001b[49m\u001b[38;5;241;43m.\u001b[39;49m\u001b[43mfrom_service_account_json\u001b[49m\u001b[43m(\u001b[49m\u001b[43mservice_account_path\u001b[49m\u001b[43m)\u001b[49m\n\u001b[0;32m      6\u001b[0m     bucket \u001b[38;5;241m=\u001b[39m storage_client\u001b[38;5;241m.\u001b[39mbucket(bucket_name)\n\u001b[0;32m      7\u001b[0m     blob \u001b[38;5;241m=\u001b[39m bucket\u001b[38;5;241m.\u001b[39mblob(destination_blob_name)\n",
      "File \u001b[1;32mc:\\Users\\ambir\\anaconda3\\envs\\MLOPS\\Lib\\site-packages\\google\\cloud\\client\\__init__.py:106\u001b[0m, in \u001b[0;36m_ClientFactoryMixin.from_service_account_json\u001b[1;34m(cls, json_credentials_path, *args, **kwargs)\u001b[0m\n\u001b[0;32m     84\u001b[0m \u001b[38;5;129m@classmethod\u001b[39m\n\u001b[0;32m     85\u001b[0m \u001b[38;5;28;01mdef\u001b[39;00m \u001b[38;5;21mfrom_service_account_json\u001b[39m(\u001b[38;5;28mcls\u001b[39m, json_credentials_path, \u001b[38;5;241m*\u001b[39margs, \u001b[38;5;241m*\u001b[39m\u001b[38;5;241m*\u001b[39mkwargs):\n\u001b[0;32m     86\u001b[0m \u001b[38;5;250m    \u001b[39m\u001b[38;5;124;03m\"\"\"Factory to retrieve JSON credentials while creating client.\u001b[39;00m\n\u001b[0;32m     87\u001b[0m \n\u001b[0;32m     88\u001b[0m \u001b[38;5;124;03m    :type json_credentials_path: str\u001b[39;00m\n\u001b[1;32m   (...)\u001b[0m\n\u001b[0;32m    104\u001b[0m \u001b[38;5;124;03m             and the credentials created by the factory.\u001b[39;00m\n\u001b[0;32m    105\u001b[0m \u001b[38;5;124;03m    \"\"\"\u001b[39;00m\n\u001b[1;32m--> 106\u001b[0m     \u001b[38;5;28;01mwith\u001b[39;00m \u001b[43mio\u001b[49m\u001b[38;5;241;43m.\u001b[39;49m\u001b[43mopen\u001b[49m\u001b[43m(\u001b[49m\u001b[43mjson_credentials_path\u001b[49m\u001b[43m,\u001b[49m\u001b[43m \u001b[49m\u001b[38;5;124;43m\"\u001b[39;49m\u001b[38;5;124;43mr\u001b[39;49m\u001b[38;5;124;43m\"\u001b[39;49m\u001b[43m,\u001b[49m\u001b[43m \u001b[49m\u001b[43mencoding\u001b[49m\u001b[38;5;241;43m=\u001b[39;49m\u001b[38;5;124;43m\"\u001b[39;49m\u001b[38;5;124;43mutf-8\u001b[39;49m\u001b[38;5;124;43m\"\u001b[39;49m\u001b[43m)\u001b[49m \u001b[38;5;28;01mas\u001b[39;00m json_fi:\n\u001b[0;32m    107\u001b[0m         credentials_info \u001b[38;5;241m=\u001b[39m json\u001b[38;5;241m.\u001b[39mload(json_fi)\n\u001b[0;32m    109\u001b[0m     \u001b[38;5;28;01mreturn\u001b[39;00m \u001b[38;5;28mcls\u001b[39m\u001b[38;5;241m.\u001b[39mfrom_service_account_info(credentials_info, \u001b[38;5;241m*\u001b[39margs, \u001b[38;5;241m*\u001b[39m\u001b[38;5;241m*\u001b[39mkwargs)\n",
      "\u001b[1;31mTypeError\u001b[0m: expected str, bytes or os.PathLike object, not NoneType"
     ]
    }
   ],
   "source": [
    "# import os\n",
    "# GCP_KEY = os.environ.get('GCP')\n",
    "\n",
    "\n",
    "# service_account_path = GCP_KEY\n",
    "# bucket_name = 'mlsd-project'\n",
    "# source_file_path = 'data/newData_7Days.csv'\n",
    "# destination_blob_name = 'newData_7Days.csv'\n",
    "\n",
    "# upload_blob(service_account_path, bucket_name, source_file_path, destination_blob_name)"
   ]
  },
  {
   "cell_type": "code",
   "execution_count": 7,
   "metadata": {},
   "outputs": [
    {
     "name": "stdout",
     "output_type": "stream",
     "text": [
      "File data/newData_7Days.csv uploaded to newData_7Days.csv.\n"
     ]
    }
   ],
   "source": [
    "\n",
    "# Set variables\n",
    "service_account_path = 'level-lyceum-400516-877e79f06a39.json'\n",
    "bucket_name = 'mlsd-project'\n",
    "source_file_path = 'data/newData_7Days.csv'\n",
    "destination_blob_name = 'newData_7Days.csv'\n",
    "\n",
    "# Example usage\n",
    "upload_blob(service_account_path, bucket_name, source_file_path, destination_blob_name)"
   ]
  },
  {
   "cell_type": "code",
   "execution_count": 12,
   "metadata": {},
   "outputs": [
    {
     "name": "stdout",
     "output_type": "stream",
     "text": [
      "File data/predictions.csv uploaded to predictions.csv.\n"
     ]
    }
   ],
   "source": [
    "# Set variables\n",
    "service_account_path = 'C:\\\\Users\\\\ambir\\\\OneDrive - Universite de Liege\\\\M2\\\\Q2\\\\MLOPS\\\\level-lyceum-400516-877e79f06a39.json'\n",
    "bucket_name = 'mlsd-project'\n",
    "source_file_path = 'data/predictions.csv'\n",
    "destination_blob_name = 'predictions.csv'\n",
    "\n",
    "# Example usage\n",
    "upload_blob(service_account_path, bucket_name, source_file_path, destination_blob_name)"
   ]
  },
  {
   "cell_type": "code",
   "execution_count": 5,
   "metadata": {},
   "outputs": [
    {
     "name": "stdout",
     "output_type": "stream",
     "text": [
      "File data/no_outliers.csv uploaded to no_outliers.csv.\n"
     ]
    }
   ],
   "source": [
    "# Set variables\n",
    "service_account_path = 'C:\\\\Users\\\\ambir\\\\OneDrive - Universite de Liege\\\\M2\\\\Q2\\\\MLOPS\\\\level-lyceum-400516-877e79f06a39.json'\n",
    "bucket_name = 'mlsd-project'\n",
    "source_file_path = 'data/no_outliers.csv'\n",
    "destination_blob_name = 'no_outliers.csv'\n",
    "\n",
    "# Example usage\n",
    "upload_blob(service_account_path, bucket_name, source_file_path, destination_blob_name)"
   ]
  },
  {
   "cell_type": "code",
   "execution_count": 8,
   "metadata": {},
   "outputs": [
    {
     "name": "stdout",
     "output_type": "stream",
     "text": [
      "File savedModels/random_forest_model.pkl uploaded to random_forest_model.pkl.\n"
     ]
    }
   ],
   "source": [
    "# Set variables\n",
    "service_account_path = 'C:\\\\Users\\\\ambir\\\\OneDrive - Universite de Liege\\\\M2\\\\Q2\\\\MLOPS\\\\level-lyceum-400516-877e79f06a39.json'\n",
    "bucket_name = 'mlsd-project'\n",
    "source_file_path = 'savedModels/random_forest_model.pkl'\n",
    "destination_blob_name = 'random_forest_model.pkl'\n",
    "\n",
    "# Example usage\n",
    "upload_blob(service_account_path, bucket_name, source_file_path, destination_blob_name)"
   ]
  },
  {
   "cell_type": "code",
   "execution_count": null,
   "metadata": {},
   "outputs": [],
   "source": []
  }
 ],
 "metadata": {
  "kernelspec": {
   "display_name": "MLOPS",
   "language": "python",
   "name": "python3"
  },
  "language_info": {
   "codemirror_mode": {
    "name": "ipython",
    "version": 3
   },
   "file_extension": ".py",
   "mimetype": "text/x-python",
   "name": "python",
   "nbconvert_exporter": "python",
   "pygments_lexer": "ipython3",
   "version": "3.11.7"
  }
 },
 "nbformat": 4,
 "nbformat_minor": 2
}
